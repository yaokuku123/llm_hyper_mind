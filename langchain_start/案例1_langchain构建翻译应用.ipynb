{
 "cells": [
  {
   "cell_type": "code",
   "id": "initial_id",
   "metadata": {
    "collapsed": true,
    "ExecuteTime": {
     "end_time": "2025-01-31T03:42:46.137985Z",
     "start_time": "2025-01-31T03:42:46.132368Z"
    }
   },
   "source": [
    "from dotenv import load_dotenv\n",
    "from langchain_core.prompts import ChatPromptTemplate, SystemMessagePromptTemplate, HumanMessagePromptTemplate\n",
    "from langchain_core.messages import SystemMessage, HumanMessage\n",
    "from langchain_core.output_parsers import StrOutputParser\n",
    "from langchain_openai import ChatOpenAI\n",
    "\n",
    "load_dotenv()"
   ],
   "outputs": [
    {
     "data": {
      "text/plain": [
       "True"
      ]
     },
     "execution_count": 12,
     "metadata": {},
     "output_type": "execute_result"
    }
   ],
   "execution_count": 12
  },
  {
   "metadata": {},
   "cell_type": "markdown",
   "source": "# langchain 调用大模型LLM",
   "id": "36fd9af8532a5a2f"
  },
  {
   "metadata": {
    "ExecuteTime": {
     "end_time": "2025-01-31T03:37:31.387007Z",
     "start_time": "2025-01-31T03:36:59.460851Z"
    }
   },
   "cell_type": "code",
   "source": [
    "model = ChatOpenAI()\n",
    "msg = [\n",
    "    SystemMessage(content=\"请将以下内容翻译成英语\"),\n",
    "    HumanMessage(content=\"你好，我们开始学习大语言模型\")\n",
    "]\n",
    "parser = StrOutputParser()\n",
    "\n",
    "chain = model | parser\n",
    "print(chain.invoke(msg))"
   ],
   "id": "9a4003d03295ec6b",
   "outputs": [
    {
     "name": "stdout",
     "output_type": "stream",
     "text": [
      "Hello, we are starting to learn about large language models.\n"
     ]
    }
   ],
   "execution_count": 5
  },
  {
   "metadata": {},
   "cell_type": "markdown",
   "source": "# langchain 提示词模版",
   "id": "7d270e331c088c37"
  },
  {
   "metadata": {
    "ExecuteTime": {
     "end_time": "2025-01-31T03:45:41.443385Z",
     "start_time": "2025-01-31T03:45:40.279959Z"
    }
   },
   "cell_type": "code",
   "source": [
    "model = ChatOpenAI()\n",
    "# 方式1，直接通过元祖的方式构建prompt模版\n",
    "# prompt_template = ChatPromptTemplate.from_messages([\n",
    "#     (\"system\", \"请将以下内容翻译成{language}\"),\n",
    "#     (\"human\", \"{text}\")\n",
    "# ])\n",
    "# 方式2，采用对象的方式构建prompt模版\n",
    "prompt_template = ChatPromptTemplate.from_messages([\n",
    "    SystemMessagePromptTemplate.from_template(\"请将以下内容翻译成{language}\"),\n",
    "    HumanMessagePromptTemplate.from_template(\"{text}\")\n",
    "])\n",
    "parser = StrOutputParser()\n",
    "chain = prompt_template | model | parser\n",
    "print(chain.invoke({\"language\": \"英语\", \"text\": \"每一个不曾起舞的日子，都是对生命的辜负\"}))"
   ],
   "id": "5e9e9cbe066f1231",
   "outputs": [
    {
     "name": "stdout",
     "output_type": "stream",
     "text": [
      "Every day that we do not dance, is a betrayal to life.\n"
     ]
    }
   ],
   "execution_count": 18
  },
  {
   "metadata": {},
   "cell_type": "code",
   "outputs": [],
   "execution_count": null,
   "source": "",
   "id": "438c56faf293f108"
  }
 ],
 "metadata": {
  "kernelspec": {
   "display_name": "Python 3",
   "language": "python",
   "name": "python3"
  },
  "language_info": {
   "codemirror_mode": {
    "name": "ipython",
    "version": 2
   },
   "file_extension": ".py",
   "mimetype": "text/x-python",
   "name": "python",
   "nbconvert_exporter": "python",
   "pygments_lexer": "ipython2",
   "version": "2.7.6"
  }
 },
 "nbformat": 4,
 "nbformat_minor": 5
}
